{
 "cells": [
  {
   "cell_type": "markdown",
   "id": "a8802ec2",
   "metadata": {
    "slideshow": {
     "slide_type": "slide"
    }
   },
   "source": [
    "# DS3 SQL Workshop\n",
    "\n",
    "### Monday, January 28, 2023\n",
    "### Baraa Zekeria and Ojas Vashishtha"
   ]
  },
  {
   "cell_type": "markdown",
   "id": "1e1d03b8",
   "metadata": {
    "slideshow": {
     "slide_type": "slide"
    }
   },
   "source": [
    "## Setup"
   ]
  },
  {
   "cell_type": "code",
   "execution_count": null,
   "id": "6193fdf6",
   "metadata": {
    "slideshow": {
     "slide_type": "subslide"
    }
   },
   "outputs": [],
   "source": [
    "# upgrade pip\n",
    "!{sys.executable} -m pip install --upgrade pip\n",
    "\n",
    "# install external libraries\n",
    "import sys\n",
    "!{sys.executable} -m pip install pandas # data manipulation & analysis\n",
    "!{sys.executable} -m pip install sqlite3 # SQL\n",
    "\n",
    "# import libraries\n",
    "import pandas as pd\n",
    "import sqlite3\n",
    "\n",
    "# notebook configurations\n",
    "pd.options.display.max_colwidth = 1000\n",
    "\n",
    "import warnings\n",
    "warnings.filterwarnings(\"ignore\")\n",
    "\n",
    "print(\"\\n**ALL LIBRARIES IMPORTED SUCCESSFULLY**\")"
   ]
  },
  {
   "cell_type": "markdown",
   "id": "4d561688",
   "metadata": {
    "slideshow": {
     "slide_type": "slide"
    }
   },
   "source": [
    "## Connect to SQLite Database"
   ]
  },
  {
   "cell_type": "markdown",
   "id": "d9b7a486",
   "metadata": {
    "slideshow": {
     "slide_type": "subslide"
    }
   },
   "source": [
    "### Step 1: Import Library"
   ]
  },
  {
   "cell_type": "code",
   "execution_count": null,
   "id": "35011b71",
   "metadata": {
    "slideshow": {
     "slide_type": "fragment"
    }
   },
   "outputs": [],
   "source": [
    "import sqlite3"
   ]
  },
  {
   "cell_type": "markdown",
   "id": "f9a62e6a",
   "metadata": {
    "slideshow": {
     "slide_type": "subslide"
    }
   },
   "source": [
    "### Step 2: Create a connection"
   ]
  },
  {
   "cell_type": "code",
   "execution_count": null,
   "id": "3f65b9bd",
   "metadata": {
    "slideshow": {
     "slide_type": "fragment"
    }
   },
   "outputs": [],
   "source": [
    "connection = sqlite3.connect(\"ds3.db\")\n"
   ]
  },
  {
   "cell_type": "markdown",
   "id": "0d7e7505",
   "metadata": {
    "slideshow": {
     "slide_type": "subslide"
    }
   },
   "source": [
    "### Step 3: Create a cursor object"
   ]
  },
  {
   "cell_type": "code",
   "execution_count": null,
   "id": "728aae02",
   "metadata": {
    "slideshow": {
     "slide_type": "fragment"
    }
   },
   "outputs": [],
   "source": [
    "crsr = connection.cursor()"
   ]
  },
  {
   "cell_type": "markdown",
   "id": "0d5468a0",
   "metadata": {
    "slideshow": {
     "slide_type": "subslide"
    }
   },
   "source": [
    "### Step 4: Convert pandas DataFrame() to a SQL Table"
   ]
  },
  {
   "cell_type": "code",
   "execution_count": null,
   "id": "dcf41798",
   "metadata": {
    "slideshow": {
     "slide_type": "fragment"
    }
   },
   "outputs": [],
   "source": [
    "independents = pd.read_csv(\"data/Independents100.csv\")\n",
    "independents = independents.assign(sales = independents[\"sales\"].apply(int))\n",
    "ratings = pd.read_csv(\"data/independents_ratings.csv\")"
   ]
  },
  {
   "cell_type": "code",
   "execution_count": null,
   "id": "2ea74035",
   "metadata": {
    "slideshow": {
     "slide_type": "fragment"
    }
   },
   "outputs": [],
   "source": [
    "independents.to_sql(\"independents\", con = connection)\n",
    "ratings.to_sql(\"ratings\", con = connection)"
   ]
  },
  {
   "cell_type": "markdown",
   "id": "d5494f56",
   "metadata": {
    "slideshow": {
     "slide_type": "fragment"
    }
   },
   "source": [
    "#### Datasets info\n",
    "- ```independents```: 100 highest-grossing independent restaurants in the US\n",
    "    - Sorted by ```sales``` in *descending* order\n",
    "- ```ratings```: Yelp ratings from March 2021 for restaurants in ```independents```"
   ]
  },
  {
   "cell_type": "markdown",
   "id": "e749dc77",
   "metadata": {
    "slideshow": {
     "slide_type": "subslide"
    }
   },
   "source": [
    "### Step 5: Create queries!"
   ]
  },
  {
   "cell_type": "code",
   "execution_count": null,
   "id": "91aedc15",
   "metadata": {
    "slideshow": {
     "slide_type": "subslide"
    }
   },
   "outputs": [],
   "source": [
    "pd.read_sql('''SELECT * \n",
    "            FROM independents''', connection)"
   ]
  },
  {
   "cell_type": "code",
   "execution_count": null,
   "id": "58e82cc3",
   "metadata": {
    "slideshow": {
     "slide_type": "subslide"
    }
   },
   "outputs": [],
   "source": [
    "pd.read_sql('''SELECT * \n",
    "            FROM ratings''', connection)"
   ]
  },
  {
   "cell_type": "markdown",
   "id": "2a0fb9c5",
   "metadata": {
    "slideshow": {
     "slide_type": "slide"
    }
   },
   "source": [
    "## Basic Commands\n",
    "\n",
    "| Keyword | Description\n",
    "| :- | :- \n",
    "| **SELECT**|Selects data from a database\n",
    "| **AS**| Renames a columns or table with an alias\n",
    "| **FROM**| Specifies which table to select or delete data from\n",
    "| **WHERE**| Filters a result set to include only records that fulfill a specified condition\n",
    "| **JOIN**| Joins tables (right, left, inner, outer, etc.)\n",
    "| **GROUP BY**| Groups the result set (used with aggregate functions: ```COUNT```, ```MAX```, ```MIN```, ```SUM```, ```AVG```)\n",
    "| **HAVING**| Used instead of ```WHERE``` with aggreagte functions\n",
    "| **ORDER BY**| Sorts the result set in ascending or descending order"
   ]
  },
  {
   "cell_type": "markdown",
   "id": "1ad8adcc",
   "metadata": {
    "slideshow": {
     "slide_type": "slide"
    }
   },
   "source": [
    "## Ex 1: Write a query to output all of the restaurants in California and New York\n",
    "\n",
    "|    |   rank | restaurant                                  |    sales |   avg_check | city           | state   |   meals_served |\n",
    "|---:|-------:|:--------------------------------------------|---------:|------------:|:---------------|:--------|---------------:|\n",
    "|  0 |      1 | Carmine's (Times Square)                    | 39080335 |          40 | New York       | N.Y.    |         469803 |\n",
    "|  3 |      4 | LAVO Italian Restaurant & Nightclub         | 26916180 |          90 | New York       | N.Y.    |         198500 |\n",
    "|  4 |      5 | Bryant Park Grill & Cafe                    | 26900000 |          62 | New York       | N.Y.    |         403000 |\n",
    "|  8 |      9 | Balthazar                                   | 24547800 |          87 | New York       | N.Y.    |         519000 |\n",
    "|  9 |     10 | Smith & Wollensky                           | 24501000 |         107 | New York       | N.Y.    |         257364 |\n",
    "| ... |     ... | ...                     | ... |          ... | ...       | ...    |         ... |\n",
    "| 92 |     93 | Virgil's Real Barbecue                      | 12245998 |          31 | New York       | N.Y.    |         251800 |\n",
    "| 94 |     95 | Franciscan Crab Restaurant                  | 12218147 |          59 | San Francisco  | Calif.  |         240000 |\n",
    "| 95 |     96 | George's at the Cove                        | 12194000 |          80 | La Jolla       | Calif.  |         250000 |\n",
    "| 96 |     97 | Le Coucou                                   | 12187523 |          95 | New York       | N.Y.    |          87070 |\n",
    "| 98 |     99 | Upland                                      | 11965564 |          52 | New York       | N.Y.    |         171825 |\n",
    "\n",
    "33 rows x 7 columns"
   ]
  },
  {
   "cell_type": "code",
   "execution_count": null,
   "id": "3d2dc36e",
   "metadata": {
    "slideshow": {
     "slide_type": "subslide"
    }
   },
   "outputs": [],
   "source": [
    "pd_ca_ny = independents[independents[\"state\"].isin([\"Calif.\", \"N.Y.\"])]\n",
    "pd_ca_ny"
   ]
  },
  {
   "cell_type": "code",
   "execution_count": null,
   "id": "9b28f74b",
   "metadata": {
    "slideshow": {
     "slide_type": "subslide"
    }
   },
   "outputs": [],
   "source": [
    "sql_ca_ny = pd.read_sql('''SELECT * \n",
    "                        FROM independents \n",
    "                        WHERE state IN (\"Calif.\", \"N.Y.\")''', connection)\n",
    "sql_ca_ny"
   ]
  },
  {
   "cell_type": "markdown",
   "id": "df9a78e5",
   "metadata": {
    "slideshow": {
     "slide_type": "slide"
    }
   },
   "source": [
    "## Q1: Write a query to output the name of restaurants in California that has an average check less than 50. \n",
    "\n",
    "|    | restaurant                    |\n",
    "|---:|:------------------------------|\n",
    "| 33 | Bottega Louie                 |\n",
    "| 39 | Original Joe's Westlake       |\n",
    "| 46 | Harris Ranch Inn & Restaurant |\n",
    "| 70 | Cliff House                   |\n",
    "| 78 | Paradise Cove Beach Cafe      |\n",
    "| 80 | Original Joe's                |\n",
    "\n",
    "6 rows x 1 column"
   ]
  },
  {
   "cell_type": "code",
   "execution_count": null,
   "id": "090b1ac4",
   "metadata": {
    "slideshow": {
     "slide_type": "subslide"
    }
   },
   "outputs": [],
   "source": [
    "# include Pandas code here (if needed)\n",
    "..."
   ]
  },
  {
   "cell_type": "code",
   "execution_count": null,
   "id": "698084a7",
   "metadata": {
    "slideshow": {
     "slide_type": "subslide"
    }
   },
   "outputs": [],
   "source": [
    "# include SQL code here\n",
    "..."
   ]
  },
  {
   "cell_type": "markdown",
   "id": "36abb34b",
   "metadata": {
    "slideshow": {
     "slide_type": "subslide"
    }
   },
   "source": [
    "## Q2: Write a query to merge restaurants and rankings. Assign to ```sql_merge```.\n",
    "\n",
    "|    |   rank | restaurant                                  |    sales |   avg_check | city            | state   |   meals_served |   rating |\n",
    "|---:|-------:|:--------------------------------------------|---------:|------------:|:----------------|:--------|---------------:|---------:|\n",
    "|  0 |      1 | Carmine's (Times Square)                    | 39080335 |          40 | New York        | N.Y.    |         469803 |      4   |\n",
    "|  1 |      2 | The Boathouse Orlando                       | 35218364 |          43 | Orlando         | Fla.    |         820819 |      4   |\n",
    "|  2 |      4 | LAVO Italian Restaurant & Nightclub         | 26916180 |          90 | New York        | N.Y.    |         198500 |      2.5 |\n",
    "|  3 |      5 | Bryant Park Grill & Cafe                    | 26900000 |          62 | New York        | N.Y.    |         403000 |      3.5 |\n",
    "|  4 |      6 | Gibsons Bar & Steakhouse                    | 25409952 |          80 | Chicago         | Ill.    |         348567 |      4   |\n",
    "|  ... |      ... | ...              | ... |         ... | ...       | ...    |         ... |      ... |\n",
    "| 86 |     95 | Franciscan Crab Restaurant                  | 12218147 |          59 | San Francisco   | Calif.  |         240000 |      3.5 |\n",
    "| 87 |     96 | George's at the Cove                        | 12194000 |          80 | La Jolla        | Calif.  |         250000 |      4   |\n",
    "| 88 |     97 | Le Coucou                                   | 12187523 |          95 | New York        | N.Y.    |          87070 |      4   |\n",
    "| 89 |     99 | Upland                                      | 11965564 |          52 | New York        | N.Y.    |         171825 |      4   |\n",
    "| 90 |    100 | Virgil's Real Barbecue                      | 11391678 |          27 | Las Vegas       | Nev.    |         208276 |      4   |\n",
    "\n",
    "91 rows x 8 columns"
   ]
  },
  {
   "cell_type": "code",
   "execution_count": null,
   "id": "33b82970",
   "metadata": {},
   "outputs": [],
   "source": [
    "# include Pandas code here (if needed)\n",
    "..."
   ]
  },
  {
   "cell_type": "code",
   "execution_count": null,
   "id": "03c67edf",
   "metadata": {},
   "outputs": [],
   "source": [
    "# include SQL code here\n",
    "..."
   ]
  },
  {
   "cell_type": "markdown",
   "id": "ea102127",
   "metadata": {
    "slideshow": {
     "slide_type": "subslide"
    }
   },
   "source": [
    "Let's save ```sql_merge``` as a SQL table for easy access.\n",
    "\n",
    "If you accidently delete the code below, please run the following to save your table within ```ds3.db```:\n",
    "\n",
    "```py\n",
    "sql_merge.to_sql(\"sql_merge\", con = connection)\n",
    "```"
   ]
  },
  {
   "cell_type": "code",
   "execution_count": null,
   "id": "51452943",
   "metadata": {
    "slideshow": {
     "slide_type": "subslide"
    }
   },
   "outputs": [],
   "source": [
    "sql_merge.to_sql(\"sql_merge\", con = connection)"
   ]
  },
  {
   "cell_type": "markdown",
   "id": "71877238",
   "metadata": {},
   "source": [
    "## Q3: Write a query that finds the average check per state. Then, for the most expensive state, find the most expensive restaurant. Is that also the highest rated restaurant for that state? Output all the columns for this question. "
   ]
  },
  {
   "cell_type": "code",
   "execution_count": null,
   "id": "3ed9806a",
   "metadata": {},
   "outputs": [],
   "source": [
    "# include Pandas code here (if needed)\n",
    "..."
   ]
  },
  {
   "cell_type": "code",
   "execution_count": null,
   "id": "51fa8b16",
   "metadata": {},
   "outputs": [],
   "source": [
    "# include SQL code here\n",
    "..."
   ]
  },
  {
   "cell_type": "markdown",
   "id": "44085050",
   "metadata": {},
   "source": [
    "## Q4: Write your own query! Use the data given and the commands to find useful insights/something interesting in the data. Each group will share their findings!"
   ]
  },
  {
   "cell_type": "code",
   "execution_count": null,
   "id": "05e43077",
   "metadata": {},
   "outputs": [],
   "source": [
    "..."
   ]
  }
 ],
 "metadata": {
  "celltoolbar": "Edit Metadata",
  "kernelspec": {
   "display_name": "Python 3",
   "language": "python",
   "name": "python3"
  },
  "language_info": {
   "codemirror_mode": {
    "name": "ipython",
    "version": 3
   },
   "file_extension": ".py",
   "mimetype": "text/x-python",
   "name": "python",
   "nbconvert_exporter": "python",
   "pygments_lexer": "ipython3",
   "version": "3.8.8"
  },
  "varInspector": {
   "cols": {
    "lenName": 16,
    "lenType": 16,
    "lenVar": 40
   },
   "kernels_config": {
    "python": {
     "delete_cmd_postfix": "",
     "delete_cmd_prefix": "del ",
     "library": "var_list.py",
     "varRefreshCmd": "print(var_dic_list())"
    },
    "r": {
     "delete_cmd_postfix": ") ",
     "delete_cmd_prefix": "rm(",
     "library": "var_list.r",
     "varRefreshCmd": "cat(var_dic_list()) "
    }
   },
   "types_to_exclude": [
    "module",
    "function",
    "builtin_function_or_method",
    "instance",
    "_Feature"
   ],
   "window_display": false
  }
 },
 "nbformat": 4,
 "nbformat_minor": 5
}
