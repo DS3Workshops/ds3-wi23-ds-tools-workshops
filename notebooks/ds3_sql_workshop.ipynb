{
 "cells": [
  {
   "cell_type": "markdown",
   "id": "a8802ec2",
   "metadata": {},
   "source": [
    "# DS3 SQL Workshop"
   ]
  },
  {
   "cell_type": "markdown",
   "id": "e2ff86e5",
   "metadata": {},
   "source": [
    "https://www.kaggle.com/datasets/hugomathien/soccer?resource=download"
   ]
  },
  {
   "cell_type": "markdown",
   "id": "2a0fb9c5",
   "metadata": {},
   "source": [
    "## Basic Commands\n",
    "\n",
    "| Keyword | Description\n",
    "| :- | :- \n",
    "| **SELECT**|Selects data from a database\n",
    "| **AS**| Renames a columns or table with an alias\n",
    "| **FROM**| Specifies which table to select or delete data from\n",
    "| **WHERE**| Filters a result set to include only records that fulfill a specified condition\n",
    "| **JOIN**| Joins tables (right, left, inner, outer, etc.)\n",
    "| **GROUP BY**| Groups the result set (used with aggregate functions: ```COUNT```, ```MAX```, ```MIN```, ```SUM```, ```AVG```)\n",
    "| **HAVING**| Used instead of ```WHERE``` with aggreagte functions\n",
    "| **ORDER BY**| Sorts the result set in ascending or descending order\n",
    "\n",
    "*[Source: W3 Schools](https://www.w3schools.com/sql/sql_ref_keywords.asp)*"
   ]
  },
  {
   "cell_type": "code",
   "execution_count": 2,
   "id": "39ca6294",
   "metadata": {},
   "outputs": [
    {
     "name": "stdout",
     "output_type": "stream",
     "text": [
      "Connected to the database\n"
     ]
    }
   ],
   "source": [
    "# install & import libraries here\n",
    "\n",
    "import sqlite3\n",
    "\n",
    "# connecting to the database\n",
    "connection = sqlite3.connect(\"gfg.db\")\n",
    " \n",
    "# cursor\n",
    "crsr = connection.cursor()\n",
    " \n",
    "# print statement will execute if there\n",
    "# are no errors\n",
    "print(\"Connected to the database\")\n",
    " \n",
    "# close the connection\n",
    "#connection.close()"
   ]
  },
  {
   "cell_type": "markdown",
   "id": "47e36d63",
   "metadata": {},
   "source": []
  }
 ],
 "metadata": {
  "kernelspec": {
   "display_name": "Python 3",
   "language": "python",
   "name": "python3"
  },
  "language_info": {
   "codemirror_mode": {
    "name": "ipython",
    "version": 3
   },
   "file_extension": ".py",
   "mimetype": "text/x-python",
   "name": "python",
   "nbconvert_exporter": "python",
   "pygments_lexer": "ipython3",
   "version": "3.8.8"
  },
  "varInspector": {
   "cols": {
    "lenName": 16,
    "lenType": 16,
    "lenVar": 40
   },
   "kernels_config": {
    "python": {
     "delete_cmd_postfix": "",
     "delete_cmd_prefix": "del ",
     "library": "var_list.py",
     "varRefreshCmd": "print(var_dic_list())"
    },
    "r": {
     "delete_cmd_postfix": ") ",
     "delete_cmd_prefix": "rm(",
     "library": "var_list.r",
     "varRefreshCmd": "cat(var_dic_list()) "
    }
   },
   "types_to_exclude": [
    "module",
    "function",
    "builtin_function_or_method",
    "instance",
    "_Feature"
   ],
   "window_display": false
  }
 },
 "nbformat": 4,
 "nbformat_minor": 5
}
